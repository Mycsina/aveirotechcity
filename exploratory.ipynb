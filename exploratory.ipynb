{
 "cells": [
  {
   "cell_type": "code",
   "execution_count": null,
   "outputs": [],
   "source": [
    "import os\n",
    "\n",
    "import influxdb_client\n",
    "from influxdb_client.client.write_api import SYNCHRONOUS\n",
    "import pandas as pd\n",
    "from dotenv import load_dotenv\n"
   ],
   "metadata": {
    "collapsed": false
   }
  },
  {
   "cell_type": "code",
   "execution_count": 49,
   "outputs": [
    {
     "data": {
      "text/plain": "True"
     },
     "execution_count": 49,
     "metadata": {},
     "output_type": "execute_result"
    }
   ],
   "source": [
    "load_dotenv()"
   ],
   "metadata": {
    "collapsed": false,
    "ExecuteTime": {
     "end_time": "2023-10-03T00:08:12.618702436Z",
     "start_time": "2023-10-03T00:08:12.617539184Z"
    }
   }
  },
  {
   "cell_type": "code",
   "execution_count": 50,
   "outputs": [],
   "source": [
    "bucket = \"sensor\"\n",
    "org = \"hack\"\n",
    "token = \"hbxyqRw8XaDPbQb9az1RuZowZvgYBf_FO90BYiRz5PciaPbPIPYFgHZSG_KrVmfw7sdVq7p1R0DQT1yHwdGYkA==\"\n",
    "url=\"http://localhost:8086\"\n",
    "client = influxdb_client.InfluxDBClient(\n",
    "   url=url,\n",
    "   token=token,\n",
    "   org=org\n",
    ")\n",
    "write_api = client.write_api(write_options=SYNCHRONOUS)"
   ],
   "metadata": {
    "collapsed": false,
    "ExecuteTime": {
     "end_time": "2023-10-03T00:08:12.618779875Z",
     "start_time": "2023-10-03T00:08:12.617700365Z"
    }
   }
  },
  {
   "cell_type": "code",
   "execution_count": 52,
   "metadata": {
    "ExecuteTime": {
     "end_time": "2023-10-03T00:08:12.680676564Z",
     "start_time": "2023-10-03T00:08:12.627388237Z"
    }
   },
   "outputs": [],
   "source": [
    "FILE_DIR = \"hackathon_air_meteo_noise_csv\"\n",
    "METEO = \"hackathon_meteo_\"\n",
    "NOISE = \"hackathon_noise_\"\n",
    "AIR = \"hackathon_air_\""
   ]
  },
  {
   "cell_type": "code",
   "execution_count": 69,
   "metadata": {
    "ExecuteTime": {
     "end_time": "2023-10-03T00:22:21.393779098Z",
     "start_time": "2023-10-03T00:22:20.998064674Z"
    }
   },
   "outputs": [],
   "source": [
    "raw_meteodata = []\n",
    "raw_noisedata = []\n",
    "raw_airdata = []\n",
    "\n",
    "for file in os.walk(FILE_DIR):\n",
    "    if file[0] == FILE_DIR:\n",
    "        for f in file[2]:\n",
    "            if f.startswith(METEO):\n",
    "                raw_meteodata.append(pd.read_csv(os.path.join(FILE_DIR, f), sep=\";\"))\n",
    "            elif f.startswith(NOISE):\n",
    "                raw_noisedata.append(pd.read_csv(os.path.join(FILE_DIR, f), sep=\";\"))\n",
    "            elif f.startswith(AIR):\n",
    "                raw_airdata.append(pd.read_csv(os.path.join(FILE_DIR, f), sep=\";\"))"
   ]
  },
  {
   "cell_type": "code",
   "execution_count": 70,
   "metadata": {
    "ExecuteTime": {
     "end_time": "2023-10-03T00:22:24.431697392Z",
     "start_time": "2023-10-03T00:22:22.655427812Z"
    }
   },
   "outputs": [],
   "source": [
    "col_units_map = {}\n",
    "for lst in [raw_meteodata, raw_noisedata, raw_airdata]:\n",
    "    for df in lst:\n",
    "        # Remove units\n",
    "        for col in df.columns:\n",
    "            if \" (\" in col:\n",
    "                col_units_map[col.split(\" (\")[0]] = col.split(\" (\")[1][:-1]\n",
    "        df.columns = [col.split(\" (\")[0] for col in df.columns]\n",
    "        # Convert types\n",
    "        df[\"device name\"] = df[\"device name\"].astype(\"string\")\n",
    "        df[\"timestamp\"] = pd.to_datetime(df[\"timestamp\"])\n",
    "        # Replace NaN with first value\n",
    "        df[\"device name\"].ffill(inplace=True)\n",
    "        df[\"latitude\"].ffill(inplace=True)\n",
    "        df[\"longitude\"].ffill(inplace=True)"
   ]
  },
  {
   "cell_type": "code",
   "execution_count": 71,
   "outputs": [],
   "source": [
    "for df in raw_airdata:\n",
    "    df.set_index(\"timestamp\", inplace=True)\n",
    "    write_api.write(bucket=bucket, org=org, record=df, data_frame_measurement_name=\"air\", data_frame_tag_columns=[\"device name\", \"latitude\", \"longitude\"])\n",
    "for df in raw_noisedata:\n",
    "    df.set_index(\"timestamp\", inplace=True)\n",
    "    write_api.write(bucket=bucket, org=org, record=df, data_frame_measurement_name=\"noise\", data_frame_tag_columns=[\"device name\", \"latitude\", \"longitude\"])\n",
    "for df in raw_meteodata:\n",
    "    df.set_index(\"timestamp\", inplace=True)\n",
    "    write_api.write(bucket=bucket, org=org, record=df, data_frame_measurement_name=\"meteo\", data_frame_tag_columns=[\"device name\", \"latitude\", \"longitude\"])"
   ],
   "metadata": {
    "collapsed": false,
    "ExecuteTime": {
     "end_time": "2023-10-03T00:22:40.421081923Z",
     "start_time": "2023-10-03T00:22:25.712416017Z"
    }
   }
  }
 ],
 "metadata": {
  "kernelspec": {
   "display_name": "aveiro_tech_city-s0WX7XTg-py3.11",
   "language": "python",
   "name": "python3"
  },
  "language_info": {
   "codemirror_mode": {
    "name": "ipython",
    "version": 3
   },
   "file_extension": ".py",
   "mimetype": "text/x-python",
   "name": "python",
   "nbconvert_exporter": "python",
   "pygments_lexer": "ipython3",
   "version": "3.11.5"
  },
  "orig_nbformat": 4
 },
 "nbformat": 4,
 "nbformat_minor": 2
}
